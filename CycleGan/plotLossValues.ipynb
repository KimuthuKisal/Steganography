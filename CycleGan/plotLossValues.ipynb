{
 "cells": [
  {
   "cell_type": "code",
   "execution_count": null,
   "metadata": {},
   "outputs": [],
   "source": [
    "import matplotlib.pyplot as plt\n",
    "\n",
    "def plot_loss(file_name, title):\n",
    "    # Read the loss values from the file\n",
    "    with open(file_name, 'r') as file:\n",
    "        lines = file.readlines()\n",
    "\n",
    "    # Extract the loss values from the lines\n",
    "    losses = [float(line.split(',')[0].split('(')[-1]) for line in lines]\n",
    "\n",
    "    # Plot the loss values\n",
    "    plt.figure(figsize=(10, 6))\n",
    "    plt.plot(losses, label='Loss')\n",
    "    plt.xlabel('Iteration')\n",
    "    plt.ylabel('Loss')\n",
    "    plt.title(title)\n",
    "    plt.legend()\n",
    "    plt.grid(True)\n",
    "    plt.show()\n",
    "\n",
    "# Example usage\n",
    "plot_loss('./LossFiles/disc_total_loss.txt', 'Discriminator Loss')\n",
    "plot_loss('./LossFiles/gen_total_loss.txt', 'Generator Loss')\n"
   ]
  },
  {
   "cell_type": "code",
   "execution_count": null,
   "metadata": {},
   "outputs": [],
   "source": [
    "import matplotlib.pyplot as plt\n",
    "\n",
    "def plot_multiple_losses(file_names):\n",
    "    plt.figure(figsize=(10, 6))\n",
    "\n",
    "    for file_name in file_names:\n",
    "        # Read the loss values from the file\n",
    "        with open(file_name, 'r') as file:\n",
    "            lines = file.readlines()\n",
    "\n",
    "        # Extract the loss values from the lines\n",
    "        losses = [float(line.split(',')[0].split('(')[-1]) for line in lines]\n",
    "\n",
    "        # Plot the loss values with the file name as the label\n",
    "        plt.plot(losses, label=file_name)\n",
    "    \n",
    "    plt.xlabel('Iteration')\n",
    "    plt.ylabel('Loss')\n",
    "    plt.title('Loss Values Over Iterations')\n",
    "    plt.legend()\n",
    "    plt.grid(True)\n",
    "    plt.show()\n",
    "\n",
    "# Example usage\n",
    "file_names = [\n",
    "    './LossFiles/cycle_s_loss.txt', './LossFiles/cycle_t_loss.txt', \n",
    "    './LossFiles/disc_s_loss.txt', './LossFiles/disc_t_loss.txt', './LossFiles/disc_total_loss.txt', \n",
    "    './LossFiles/gen_s_loss.txt', './LossFiles/gen_t_loss.txt', './LossFiles/gen_total_loss.txt'\n",
    "]\n",
    "plot_multiple_losses(file_names)\n"
   ]
  },
  {
   "cell_type": "code",
   "execution_count": null,
   "metadata": {},
   "outputs": [],
   "source": [
    "file_names1 = ['./LossFiles/disc_total_loss.txt', './LossFiles/gen_total_loss.txt']\n",
    "plot_multiple_losses(file_names1)"
   ]
  },
  {
   "cell_type": "code",
   "execution_count": null,
   "metadata": {},
   "outputs": [],
   "source": []
  }
 ],
 "metadata": {
  "kernelspec": {
   "display_name": "cenv",
   "language": "python",
   "name": "python3"
  },
  "language_info": {
   "codemirror_mode": {
    "name": "ipython",
    "version": 3
   },
   "file_extension": ".py",
   "mimetype": "text/x-python",
   "name": "python",
   "nbconvert_exporter": "python",
   "pygments_lexer": "ipython3",
   "version": "3.10.12"
  }
 },
 "nbformat": 4,
 "nbformat_minor": 2
}
